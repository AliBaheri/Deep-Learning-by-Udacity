{
 "cells": [
  {
   "cell_type": "markdown",
   "metadata": {
    "colab_type": "text",
    "id": "kR-4eNdK6lYS"
   },
   "source": [
    "Deep Learning\n",
    "=============\n",
    "\n",
    "Assignment 3\n",
    "------------\n",
    "\n",
    "Previously in `2_fullyconnected.ipynb`, you trained a logistic regression and a neural network model.\n",
    "\n",
    "The goal of this assignment is to explore regularization techniques."
   ]
  },
  {
   "cell_type": "code",
   "execution_count": 1,
   "metadata": {
    "cellView": "both",
    "colab": {
     "autoexec": {
      "startup": false,
      "wait_interval": 0
     }
    },
    "colab_type": "code",
    "collapsed": true,
    "id": "JLpLa8Jt7Vu4"
   },
   "outputs": [],
   "source": [
    "# These are all the modules we'll be using later. Make sure you can import them\n",
    "# before proceeding further.\n",
    "from __future__ import print_function\n",
    "import numpy as np\n",
    "import tensorflow as tf\n",
    "from six.moves import cPickle as pickle"
   ]
  },
  {
   "cell_type": "markdown",
   "metadata": {
    "colab_type": "text",
    "id": "1HrCK6e17WzV"
   },
   "source": [
    "First reload the data we generated in `1_notmnist.ipynb`."
   ]
  },
  {
   "cell_type": "code",
   "execution_count": 2,
   "metadata": {
    "cellView": "both",
    "colab": {
     "autoexec": {
      "startup": false,
      "wait_interval": 0
     },
     "output_extras": [
      {
       "item_id": 1
      }
     ]
    },
    "colab_type": "code",
    "executionInfo": {
     "elapsed": 11777,
     "status": "ok",
     "timestamp": 1449849322348,
     "user": {
      "color": "",
      "displayName": "",
      "isAnonymous": false,
      "isMe": true,
      "permissionId": "",
      "photoUrl": "",
      "sessionId": "0",
      "userId": ""
     },
     "user_tz": 480
    },
    "id": "y3-cj1bpmuxc",
    "outputId": "e03576f1-ebbe-4838-c388-f1777bcc9873"
   },
   "outputs": [
    {
     "name": "stdout",
     "output_type": "stream",
     "text": [
      "Training set (200000, 28, 28) (200000,)\n",
      "Validation set (10000, 28, 28) (10000,)\n",
      "Test set (10000, 28, 28) (10000,)\n"
     ]
    }
   ],
   "source": [
    "pickle_file = 'notMNIST.pickle'\n",
    "\n",
    "with open(pickle_file, 'rb') as f:\n",
    "  save = pickle.load(f, encoding = 'latin1')\n",
    "  train_dataset = save['train_dataset']\n",
    "  train_labels = save['train_labels']\n",
    "  valid_dataset = save['valid_dataset']\n",
    "  valid_labels = save['valid_labels']\n",
    "  test_dataset = save['test_dataset']\n",
    "  test_labels = save['test_labels']\n",
    "  del save  # hint to help gc free up memory\n",
    "  print('Training set', train_dataset.shape, train_labels.shape)\n",
    "  print('Validation set', valid_dataset.shape, valid_labels.shape)\n",
    "  print('Test set', test_dataset.shape, test_labels.shape)"
   ]
  },
  {
   "cell_type": "markdown",
   "metadata": {
    "colab_type": "text",
    "id": "L7aHrm6nGDMB"
   },
   "source": [
    "Reformat into a shape that's more adapted to the models we're going to train:\n",
    "- data as a flat matrix,\n",
    "- labels as float 1-hot encodings."
   ]
  },
  {
   "cell_type": "code",
   "execution_count": 3,
   "metadata": {
    "cellView": "both",
    "colab": {
     "autoexec": {
      "startup": false,
      "wait_interval": 0
     },
     "output_extras": [
      {
       "item_id": 1
      }
     ]
    },
    "colab_type": "code",
    "executionInfo": {
     "elapsed": 11728,
     "status": "ok",
     "timestamp": 1449849322356,
     "user": {
      "color": "",
      "displayName": "",
      "isAnonymous": false,
      "isMe": true,
      "permissionId": "",
      "photoUrl": "",
      "sessionId": "0",
      "userId": ""
     },
     "user_tz": 480
    },
    "id": "IRSyYiIIGIzS",
    "outputId": "3f8996ee-3574-4f44-c953-5c8a04636582"
   },
   "outputs": [
    {
     "name": "stdout",
     "output_type": "stream",
     "text": [
      "Training set (200000, 784) (200000, 10)\n",
      "Validation set (10000, 784) (10000, 10)\n",
      "Test set (10000, 784) (10000, 10)\n"
     ]
    }
   ],
   "source": [
    "image_size = 28\n",
    "num_labels = 10\n",
    "\n",
    "def reformat(dataset, labels):\n",
    "  dataset = dataset.reshape((-1, image_size * image_size)).astype(np.float32)\n",
    "  # Map 1 to [0.0, 1.0, 0.0 ...], 2 to [0.0, 0.0, 1.0 ...]\n",
    "  labels = (np.arange(num_labels) == labels[:,None]).astype(np.float32)\n",
    "  return dataset, labels\n",
    "train_dataset, train_labels = reformat(train_dataset, train_labels)\n",
    "valid_dataset, valid_labels = reformat(valid_dataset, valid_labels)\n",
    "test_dataset, test_labels = reformat(test_dataset, test_labels)\n",
    "print('Training set', train_dataset.shape, train_labels.shape)\n",
    "print('Validation set', valid_dataset.shape, valid_labels.shape)\n",
    "print('Test set', test_dataset.shape, test_labels.shape)"
   ]
  },
  {
   "cell_type": "code",
   "execution_count": 4,
   "metadata": {
    "cellView": "both",
    "colab": {
     "autoexec": {
      "startup": false,
      "wait_interval": 0
     }
    },
    "colab_type": "code",
    "collapsed": true,
    "id": "RajPLaL_ZW6w"
   },
   "outputs": [],
   "source": [
    "def accuracy(predictions, labels):\n",
    "  return (100.0 * np.sum(np.argmax(predictions, 1) == np.argmax(labels, 1))\n",
    "          / predictions.shape[0])"
   ]
  },
  {
   "cell_type": "markdown",
   "metadata": {
    "colab_type": "text",
    "id": "sgLbUAQ1CW-1"
   },
   "source": [
    "---\n",
    "Problem 1\n",
    "---------\n",
    "\n",
    "Introduce and tune L2 regularization for both logistic and neural network models. Remember that L2 amounts to adding a penalty on the norm of the weights to the loss. In TensorFlow, you can compute the L2 loss for a tensor `t` using `nn.l2_loss(t)`. The right amount of regularization should improve your validation / test accuracy.\n",
    "\n",
    "---"
   ]
  },
  {
   "cell_type": "markdown",
   "metadata": {},
   "source": [
    "# L2 regularization for Logistic model"
   ]
  },
  {
   "cell_type": "code",
   "execution_count": 5,
   "metadata": {
    "collapsed": true
   },
   "outputs": [],
   "source": [
    "# With gradient descent training, even this much data is prohibitive.\n",
    "# Subset the training data for faster turnaround.\n",
    "train_subset = 10000\n",
    "beta = 5e-3\n",
    "\n",
    "graph = tf.Graph()\n",
    "with graph.as_default():\n",
    "\n",
    "# Input data\n",
    "  tf_train_dataset = tf.constant(train_dataset[:train_subset, :])\n",
    "  tf_train_labels = tf.constant(train_labels[:train_subset])\n",
    "  tf_valid_dataset = tf.constant(valid_dataset)\n",
    "  tf_test_dataset = tf.constant(test_dataset)\n",
    "\n",
    "# Variables\n",
    "  weights = tf.Variable(tf.truncated_normal([image_size * image_size, num_labels]))\n",
    "  biases  = tf.Variable(tf.zeros([num_labels]))\n",
    "\n",
    "\n",
    "  logits = tf.matmul(tf_train_dataset, weights) + biases\n",
    "  loss = tf.reduce_mean(tf.nn.softmax_cross_entropy_with_logits(labels=tf_train_labels, logits=logits))\n",
    "\n",
    "  regularization = tf.nn.l2_loss(weights)\n",
    "  loss = tf.reduce_mean(loss + beta * regularization)\n",
    "\n",
    "# Optimizer\n",
    "  optimizer = tf.train.GradientDescentOptimizer(0.5).minimize(loss)\n",
    "\n",
    "# Prediction\n",
    "  train_prediction = tf.nn.softmax(logits)\n",
    "  valid_prediction = tf.nn.softmax(\n",
    "    tf.matmul(tf_valid_dataset, weights) + biases)\n",
    "  test_prediction = tf.nn.softmax(tf.matmul(tf_test_dataset, weights) + biases)"
   ]
  },
  {
   "cell_type": "code",
   "execution_count": 6,
   "metadata": {},
   "outputs": [
    {
     "name": "stdout",
     "output_type": "stream",
     "text": [
      "Initialized\n",
      "Loss at step 0: 36.029976\n",
      "Training accuracy: 8.6%\n",
      "Validation accuracy: 9.5%\n",
      "Loss at step 100: 10.525558\n",
      "Training accuracy: 72.0%\n",
      "Validation accuracy: 70.5%\n",
      "Loss at step 200: 6.219536\n",
      "Training accuracy: 76.7%\n",
      "Validation accuracy: 74.1%\n",
      "Loss at step 300: 3.811453\n",
      "Training accuracy: 79.4%\n",
      "Validation accuracy: 76.2%\n",
      "Loss at step 400: 2.447153\n",
      "Training accuracy: 81.8%\n",
      "Validation accuracy: 78.2%\n",
      "Loss at step 500: 1.672443\n",
      "Training accuracy: 83.4%\n",
      "Validation accuracy: 79.6%\n",
      "Loss at step 600: 1.230562\n",
      "Training accuracy: 84.4%\n",
      "Validation accuracy: 80.6%\n",
      "Loss at step 700: 0.976998\n",
      "Training accuracy: 85.0%\n",
      "Validation accuracy: 81.1%\n",
      "Loss at step 800: 0.830612\n",
      "Training accuracy: 85.4%\n",
      "Validation accuracy: 81.4%\n",
      "Loss at step 900: 0.745638\n",
      "Training accuracy: 85.6%\n",
      "Validation accuracy: 81.6%\n",
      "Loss at step 1000: 0.696081\n",
      "Training accuracy: 85.7%\n",
      "Validation accuracy: 81.8%\n",
      "Test accuracy: 88.8%\n"
     ]
    }
   ],
   "source": [
    "num_steps = 1001\n",
    "\n",
    "def accuracy(predictions, labels):\n",
    "  return (100.0 * np.sum(np.argmax(predictions, 1) == np.argmax(labels, 1))\n",
    "          / predictions.shape[0])\n",
    "\n",
    "with tf.Session(graph=graph) as session:\n",
    "  # This is a one-time operation which ensures the parameters get initialized as\n",
    "  # we described in the graph: random weights for the matrix, zeros for the\n",
    "  # biases. \n",
    "  tf.global_variables_initializer().run()\n",
    "  print('Initialized')\n",
    "  for step in range(num_steps):\n",
    "    # Run the computations. We tell .run() that we want to run the optimizer,\n",
    "    # and get the loss value and the training predictions returned as numpy\n",
    "    # arrays.\n",
    "    _, l, predictions = session.run([optimizer, loss, train_prediction])\n",
    "    if (step % 100 == 0):\n",
    "      print('Loss at step %d: %f' % (step, l))\n",
    "      print('Training accuracy: %.1f%%' % accuracy(\n",
    "        predictions, train_labels[:train_subset, :]))\n",
    "      # Calling .eval() on valid_prediction is basically like calling run(), but\n",
    "      # just to get that one numpy array. Note that it recomputes all its graph\n",
    "      # dependencies.\n",
    "      print('Validation accuracy: %.1f%%' % accuracy(\n",
    "        valid_prediction.eval(), valid_labels))\n",
    "  print('Test accuracy: %.1f%%' % accuracy(test_prediction.eval(), test_labels))"
   ]
  },
  {
   "cell_type": "markdown",
   "metadata": {},
   "source": [
    "# L2 regularization for Neural Network model"
   ]
  },
  {
   "cell_type": "code",
   "execution_count": 7,
   "metadata": {
    "collapsed": true
   },
   "outputs": [],
   "source": [
    "# parameters\n",
    "batch_size = 128\n",
    "image_size = 28\n",
    "\n",
    "# network params\n",
    "num_labels = 10 \n",
    "num_hidden = 1024 \n",
    "beta = 5e-3\n",
    "\n",
    "\n",
    "graph = tf.Graph()\n",
    "with graph.as_default():\n",
    "    # Input data\n",
    "    tf_train_dataset = tf.placeholder(tf.float32, shape=(batch_size, image_size * image_size))\n",
    "    tf_train_labels = tf.placeholder(tf.float32, shape=(batch_size, num_labels))\n",
    "    tf_valid_dataset = tf.constant(valid_dataset)\n",
    "    tf_test_dataset = tf.constant(test_dataset)\n",
    "\n",
    "    ## Build a hidden layer with 1024 neurons.\n",
    "    # Variables. (hidden)\n",
    "    weights_1 = tf.Variable(tf.truncated_normal([image_size * image_size, num_hidden]))\n",
    "    biases_1 = tf.Variable(tf.zeros([num_hidden]))\n",
    "    \n",
    "    # output layer\n",
    "    weights_2 = tf.Variable(tf.truncated_normal([num_hidden, num_labels]))\n",
    "    biases_2 = tf.Variable(tf.zeros([num_labels]))\n",
    "    \n",
    "    # Training computation.\n",
    "    logits_1 = tf.matmul(tf_train_dataset, weights_1) + biases_1 ## \n",
    "    # ReLUs\n",
    "    relu_layer = tf.nn.relu(logits_1)\n",
    "    \n",
    "    logits = tf.matmul(relu_layer, weights_2) + biases_2\n",
    "    \n",
    "    # loss function + L2 regularization\n",
    "    loss = tf.reduce_mean(tf.nn.softmax_cross_entropy_with_logits(logits=logits, labels=tf_train_labels)) \n",
    "    \n",
    "    # L2 regularization\n",
    "    regularization = tf.nn.l2_loss(weights_1) + tf.nn.l2_loss(weights_2)\n",
    "    loss = tf.reduce_mean(loss + beta*regularization)\n",
    "    \n",
    "    # Optimizer.\n",
    "    optimizer = tf.train.GradientDescentOptimizer(0.5).minimize(loss)\n",
    "\n",
    "    # Predictions for the training\n",
    "    train_prediction = tf.nn.softmax(logits)\n",
    "    \n",
    "    # Predictions for validation \n",
    "    logits_1 = tf.matmul(tf_valid_dataset, weights_1) + biases_1\n",
    "    relu_layer = tf.nn.relu(logits_1)\n",
    "    logits_valid = tf.matmul(relu_layer, weights_2) + biases_2\n",
    "    \n",
    "    valid_prediction = tf.nn.softmax(logits_valid)\n",
    "    \n",
    "    # Predictions for test data\n",
    "    logits_1 = tf.matmul(tf_test_dataset, weights_1) + biases_1\n",
    "    relu_layer = tf.nn.relu(logits_1)\n",
    "    logits_test = tf.matmul(relu_layer, weights_2) + biases_2\n",
    "    \n",
    "    test_prediction = tf.nn.softmax(logits_test)"
   ]
  },
  {
   "cell_type": "code",
   "execution_count": 8,
   "metadata": {},
   "outputs": [
    {
     "name": "stdout",
     "output_type": "stream",
     "text": [
      "Initialized\n",
      "Minibatch loss at step 0: 1939.893677\n",
      "Minibatch accuracy: 12.5%\n",
      "Validation accuracy: 31.5%\n",
      "Minibatch loss at step 500: 127.826668\n",
      "Minibatch accuracy: 82.8%\n",
      "Validation accuracy: 80.8%\n",
      "Minibatch loss at step 1000: 11.010814\n",
      "Minibatch accuracy: 83.6%\n",
      "Validation accuracy: 84.8%\n",
      "Test accuracy: 91.8%\n"
     ]
    }
   ],
   "source": [
    "num_steps = 1001\n",
    "\n",
    "with tf.Session(graph=graph) as session:\n",
    "#   tf.initialize_all_variables().run()\n",
    "  tf.global_variables_initializer().run()\n",
    "  print(\"Initialized\")\n",
    "  for step in range(num_steps):\n",
    "    # Pick an offset within the training data, which has been randomized.\n",
    "    # Note: we could use better randomization across epochs.\n",
    "    offset = (step * batch_size) % (train_labels.shape[0] - batch_size)\n",
    "    # Generate a minibatch.\n",
    "    batch_data = train_dataset[offset:(offset + batch_size), :]\n",
    "    batch_labels = train_labels[offset:(offset + batch_size), :]\n",
    "    # Prepare a dictionary telling the session where to feed the minibatch.\n",
    "    # The key of the dictionary is the placeholder node of the graph to be fed,\n",
    "    # and the value is the numpy array to feed to it.\n",
    "    feed_dict = {tf_train_dataset : batch_data, tf_train_labels : batch_labels}\n",
    "    _, l, predictions = session.run(\n",
    "      [optimizer, loss, train_prediction], feed_dict=feed_dict)\n",
    "    if (step % 500 == 0):\n",
    "      print(\"Minibatch loss at step %d: %f\" % (step, l))\n",
    "      print(\"Minibatch accuracy: %.1f%%\" % accuracy(predictions, batch_labels))\n",
    "      print(\"Validation accuracy: %.1f%%\" % accuracy(valid_prediction.eval(), valid_labels))\n",
    "  print(\"Test accuracy: %.1f%%\" % accuracy(test_prediction.eval(), test_labels))"
   ]
  },
  {
   "cell_type": "markdown",
   "metadata": {
    "colab_type": "text",
    "id": "na8xX2yHZzNF"
   },
   "source": [
    "---\n",
    "Problem 2\n",
    "---------\n",
    "Let's demonstrate an extreme case of overfitting. Restrict your training data to just a few batches. What happens?\n",
    "\n",
    "---"
   ]
  },
  {
   "cell_type": "code",
   "execution_count": 9,
   "metadata": {},
   "outputs": [
    {
     "name": "stdout",
     "output_type": "stream",
     "text": [
      "Initialized\n",
      "Minibatch loss at step 0: 1946.343262\n",
      "Minibatch accuracy: 8.6%\n",
      "Validation accuracy: 31.7%\n",
      "Minibatch loss at step 500: 128.414581\n",
      "Minibatch accuracy: 100.0%\n",
      "Validation accuracy: 74.9%\n",
      "Minibatch loss at step 1000: 10.588015\n",
      "Minibatch accuracy: 100.0%\n",
      "Validation accuracy: 78.0%\n",
      "Test accuracy: 85.5%\n"
     ]
    }
   ],
   "source": [
    "num_steps = 1001\n",
    "\n",
    "# Restrict the training data to just a few batches\n",
    "train_dataset_few = train_dataset[:500,:]\n",
    "train_labels_few = train_labels[:500]\n",
    "\n",
    "with tf.Session(graph=graph) as session:\n",
    "#   tf.initialize_all_variables().run()\n",
    "  tf.global_variables_initializer().run()\n",
    "  print(\"Initialized\")\n",
    "  for step in range(num_steps):\n",
    "    offset = (step * batch_size) % (train_labels_few.shape[0] - batch_size)\n",
    "    # Generate a minibatch.\n",
    "    batch_data = train_dataset_few[offset:(offset + batch_size), :]\n",
    "    batch_labels = train_labels_few[offset:(offset + batch_size), :]\n",
    "    # Prepare a dictionary telling the session where to feed the minibatch.\n",
    "    # The key of the dictionary is the placeholder node of the graph to be fed,\n",
    "    # and the value is the numpy array to feed to it.\n",
    "    feed_dict = {tf_train_dataset : batch_data, tf_train_labels : batch_labels}\n",
    "    _, l, predictions = session.run(\n",
    "      [optimizer, loss, train_prediction], feed_dict=feed_dict)\n",
    "    if (step % 500 == 0):\n",
    "      print(\"Minibatch loss at step %d: %f\" % (step, l))\n",
    "      print(\"Minibatch accuracy: %.1f%%\" % accuracy(predictions, batch_labels))\n",
    "      print(\"Validation accuracy: %.1f%%\" % accuracy(valid_prediction.eval(), valid_labels))\n",
    "  print(\"Test accuracy: %.1f%%\" % accuracy(test_prediction.eval(), test_labels))"
   ]
  },
  {
   "cell_type": "markdown",
   "metadata": {
    "colab_type": "text",
    "id": "ww3SCBUdlkRc"
   },
   "source": [
    "---\n",
    "Problem 3\n",
    "---------\n",
    "Introduce Dropout on the hidden layer of the neural network. Remember: Dropout should only be introduced during training, not evaluation, otherwise your evaluation results would be stochastic as well. TensorFlow provides `nn.dropout()` for that, but you have to make sure it's only inserted during training.\n",
    "\n",
    "What happens to our extreme overfitting case?\n",
    "\n",
    "---"
   ]
  },
  {
   "cell_type": "code",
   "execution_count": 12,
   "metadata": {
    "collapsed": true
   },
   "outputs": [],
   "source": [
    "# parameters\n",
    "batch_size = 128\n",
    "image_size = 28\n",
    "\n",
    "# network params\n",
    "num_labels = 10 \n",
    "num_hidden = 1024 \n",
    "beta = 0.01\n",
    "\n",
    "# create tensorflow graph\n",
    "graph = tf.Graph()\n",
    "with graph.as_default():\n",
    "    # tensorflow graph input\n",
    "    # At run time with a training minibatch.\n",
    "    tf_train_dataset = tf.placeholder(tf.float32, shape=(batch_size, image_size * image_size))\n",
    "    tf_train_labels = tf.placeholder(tf.float32, shape=(batch_size, num_labels))\n",
    "    tf_valid_dataset = tf.constant(valid_dataset)\n",
    "    tf_test_dataset = tf.constant(test_dataset)\n",
    "\n",
    "    ## Build a hidden layer with 1024 neurons.\n",
    "    # Variables. (hidden)\n",
    "    weights_1 = tf.Variable(tf.truncated_normal([image_size * image_size, num_hidden]))\n",
    "    biases_1 = tf.Variable(tf.zeros([num_hidden]))\n",
    "    \n",
    "    # output layer\n",
    "    weights_2 = tf.Variable(tf.truncated_normal([num_hidden, num_labels]))\n",
    "    biases_2 = tf.Variable(tf.zeros([num_labels]))\n",
    "    \n",
    "    # Training computation.\n",
    "    logits_1 = tf.matmul(tf_train_dataset, weights_1) + biases_1 ## \n",
    "    # ReLUs\n",
    "    relu_layer = tf.nn.relu(logits_1)\n",
    "    \n",
    "    # dropout \n",
    "   \n",
    "    keep_prob = tf.placeholder(tf.float32) \n",
    "    relu_layer_dropout = tf.nn.dropout(relu_layer, keep_prob)\n",
    "    \n",
    "    # output layer\n",
    "    logits = tf.matmul(relu_layer_dropout, weights_2) + biases_2\n",
    "    \n",
    "    # loss function + L2 regularization\n",
    "    loss = tf.reduce_mean(tf.nn.softmax_cross_entropy_with_logits(logits=logits, labels=tf_train_labels)) \n",
    "    \n",
    "    # L2 regularization\n",
    "    regularization = tf.nn.l2_loss(weights_1) + tf.nn.l2_loss(weights_2)\n",
    "    loss = tf.reduce_mean(loss + beta*regularization)\n",
    "    \n",
    "    # Optimizer.\n",
    "    optimizer = tf.train.GradientDescentOptimizer(0.5).minimize(loss)\n",
    "\n",
    "    # Predictions for the training\n",
    "    train_prediction = tf.nn.softmax(logits)\n",
    "    \n",
    "    # Predictions for validation \n",
    "    logits_1 = tf.matmul(tf_valid_dataset, weights_1) + biases_1\n",
    "    relu_layer = tf.nn.relu(logits_1)\n",
    "    logits_valid = tf.matmul(relu_layer, weights_2) + biases_2\n",
    "    \n",
    "    valid_prediction = tf.nn.softmax(logits_valid)\n",
    "    \n",
    "    # Predictions for test data\n",
    "    logits_1 = tf.matmul(tf_test_dataset, weights_1) + biases_1\n",
    "    relu_layer = tf.nn.relu(logits_1)\n",
    "    logits_test = tf.matmul(relu_layer, weights_2) + biases_2\n",
    "    \n",
    "    test_prediction = tf.nn.softmax(logits_test)"
   ]
  },
  {
   "cell_type": "code",
   "execution_count": 13,
   "metadata": {},
   "outputs": [
    {
     "name": "stdout",
     "output_type": "stream",
     "text": [
      "Initialized\n",
      "Minibatch loss at step 0: 3567.369385\n",
      "Minibatch accuracy: 10.9%\n",
      "Validation accuracy: 27.6%\n",
      "Minibatch loss at step 500: 21.300634\n",
      "Minibatch accuracy: 87.5%\n",
      "Validation accuracy: 84.0%\n",
      "Minibatch loss at step 1000: 0.996845\n",
      "Minibatch accuracy: 82.0%\n",
      "Validation accuracy: 83.0%\n",
      "Minibatch loss at step 1500: 0.638317\n",
      "Minibatch accuracy: 86.7%\n",
      "Validation accuracy: 83.0%\n",
      "Minibatch loss at step 2000: 0.724364\n",
      "Minibatch accuracy: 87.5%\n",
      "Validation accuracy: 83.0%\n",
      "Minibatch loss at step 2500: 0.778409\n",
      "Minibatch accuracy: 82.8%\n",
      "Validation accuracy: 83.2%\n",
      "Minibatch loss at step 3000: 0.833780\n",
      "Minibatch accuracy: 80.5%\n",
      "Validation accuracy: 83.2%\n",
      "Test accuracy: 89.9%\n"
     ]
    }
   ],
   "source": [
    "num_steps = 3001\n",
    "\n",
    "with tf.Session(graph=graph) as session:\n",
    "  tf.global_variables_initializer().run()\n",
    "  print(\"Initialized\")\n",
    "  for step in range(num_steps):\n",
    "    offset = (step * batch_size) % (train_labels.shape[0] - batch_size)\n",
    "    batch_data = train_dataset[offset:(offset + batch_size), :]\n",
    "    batch_labels = train_labels[offset:(offset + batch_size), :]\n",
    "    \n",
    "    # Prepare a dictionary telling the session where to feed the minibatch.\n",
    "    # The key of the dictionary is the placeholder node of the graph to be fed,\n",
    "    # and the value is the numpy array to feed to it.\n",
    "    \n",
    "    feed_dict = {tf_train_dataset : batch_data, tf_train_labels : batch_labels, keep_prob : 0.5}\n",
    "    _, l, predictions = session.run(\n",
    "      [optimizer, loss, train_prediction], feed_dict=feed_dict)\n",
    "    if (step % 500 == 0):\n",
    "      print(\"Minibatch loss at step %d: %f\" % (step, l))\n",
    "      print(\"Minibatch accuracy: %.1f%%\" % accuracy(predictions, batch_labels))\n",
    "      print(\"Validation accuracy: %.1f%%\" % accuracy(valid_prediction.eval(), valid_labels))\n",
    "  print(\"Test accuracy: %.1f%%\" % accuracy(test_prediction.eval(), test_labels))"
   ]
  },
  {
   "cell_type": "markdown",
   "metadata": {},
   "source": [
    "# Question: What happens to our extreme overfitting case?"
   ]
  },
  {
   "cell_type": "code",
   "execution_count": 14,
   "metadata": {},
   "outputs": [
    {
     "name": "stdout",
     "output_type": "stream",
     "text": [
      "Initialized\n",
      "Minibatch loss at step 0: 3664.218750\n",
      "Minibatch accuracy: 9.4%\n",
      "Validation accuracy: 29.6%\n",
      "Minibatch loss at step 500: 21.118073\n",
      "Minibatch accuracy: 100.0%\n",
      "Validation accuracy: 79.0%\n",
      "Minibatch loss at step 1000: 0.509262\n",
      "Minibatch accuracy: 99.2%\n",
      "Validation accuracy: 79.4%\n",
      "Minibatch loss at step 1500: 0.325180\n",
      "Minibatch accuracy: 100.0%\n",
      "Validation accuracy: 79.5%\n",
      "Minibatch loss at step 2000: 0.317957\n",
      "Minibatch accuracy: 99.2%\n",
      "Validation accuracy: 79.6%\n",
      "Minibatch loss at step 2500: 0.309969\n",
      "Minibatch accuracy: 99.2%\n",
      "Validation accuracy: 79.6%\n",
      "Minibatch loss at step 3000: 0.298528\n",
      "Minibatch accuracy: 100.0%\n",
      "Validation accuracy: 79.7%\n",
      "Test accuracy: 86.6%\n"
     ]
    }
   ],
   "source": [
    "num_steps = 3001\n",
    "\n",
    "train_dataset_few = train_dataset[:500,:]\n",
    "train_labels_few = train_labels[:500]\n",
    "\n",
    "with tf.Session(graph=graph) as session:\n",
    "#   tf.initialize_all_variables().run()\n",
    "  tf.global_variables_initializer().run()\n",
    "  print(\"Initialized\")\n",
    "  for step in range(num_steps):\n",
    "    offset = (step * batch_size) % (train_labels_few.shape[0] - batch_size)\n",
    "    batch_data = train_dataset_few[offset:(offset + batch_size), :]\n",
    "    batch_labels = train_labels_few[offset:(offset + batch_size), :]\n",
    "    \n",
    "    # Prepare a dictionary telling the session where to feed the minibatch.\n",
    "    # The key of the dictionary is the placeholder node of the graph to be fed,\n",
    "    # and the value is the numpy array to feed to it.\n",
    "    \n",
    "    feed_dict = {tf_train_dataset : batch_data, tf_train_labels : batch_labels, keep_prob : 0.5}\n",
    "    _, l, predictions = session.run(\n",
    "      [optimizer, loss, train_prediction], feed_dict=feed_dict)\n",
    "    if (step % 500 == 0):\n",
    "      print(\"Minibatch loss at step %d: %f\" % (step, l))\n",
    "      print(\"Minibatch accuracy: %.1f%%\" % accuracy(predictions, batch_labels))\n",
    "      print(\"Validation accuracy: %.1f%%\" % accuracy(valid_prediction.eval(), valid_labels))\n",
    "  print(\"Test accuracy: %.1f%%\" % accuracy(test_prediction.eval(), test_labels))"
   ]
  },
  {
   "cell_type": "markdown",
   "metadata": {
    "colab_type": "text",
    "id": "-b1hTz3VWZjw"
   },
   "source": [
    "---\n",
    "Problem 4\n",
    "---------\n",
    "\n",
    "Try to get the best performance you can using a multi-layer model! The best reported test accuracy using a deep network is [97.1%](http://yaroslavvb.blogspot.com/2011/09/notmnist-dataset.html?showComment=1391023266211#c8758720086795711595).\n",
    "\n",
    "One avenue you can explore is to add multiple layers.\n",
    "\n",
    "Another one is to use learning rate decay:\n",
    "\n",
    "    global_step = tf.Variable(0)  # count the number of steps taken.\n",
    "    learning_rate = tf.train.exponential_decay(0.5, global_step, ...)\n",
    "    optimizer = tf.train.GradientDescentOptimizer(learning_rate).minimize(loss, global_step=global_step)\n",
    " \n",
    " ---\n"
   ]
  },
  {
   "cell_type": "code",
   "execution_count": 18,
   "metadata": {
    "collapsed": true
   },
   "outputs": [],
   "source": [
    "import math as math\n",
    "\n",
    "batch_size = 128\n",
    "image_size = 28\n",
    "num_labels = 10 \n",
    "\n",
    "beta = 0.05\n",
    "num_hidden_neurons_1 = 1024\n",
    "num_hidden_neurons_2 = int(num_hidden_neurons_1 * np.power(0.5, 1)) \n",
    "num_hidden_neurons_3 = int(num_hidden_neurons_1 * np.power(0.5, 2))\n",
    "num_hidden_neurons_4 = int(num_hidden_neurons_1 * np.power(0.5, 3)) \n",
    "num_hidden_neurons_5 = int(num_hidden_neurons_1 * np.power(0.5, 4)) \n",
    "\n",
    "# create tensorflow graph\n",
    "graph = tf.Graph()\n",
    "with graph.as_default():\n",
    "    # tensorflow graph input\n",
    "    # At run time with a training minibatch.\n",
    "    tf_train_dataset = tf.placeholder(tf.float32, shape=(batch_size, image_size * image_size))\n",
    "    tf_train_labels = tf.placeholder(tf.float32, shape=(batch_size, num_labels))\n",
    "    tf_valid_dataset = tf.constant(valid_dataset)\n",
    "    tf_test_dataset = tf.constant(test_dataset)\n",
    "\n",
    "    ## Build four(4) hidden layers with 1024 neurons at each layer.\n",
    "    ## Hidden layer 1 with ReLUs\n",
    "    weights_1 = tf.Variable(tf.truncated_normal([image_size * image_size, num_hidden_neurons_1], stddev=math.sqrt(2.0/(image_size * image_size)))) ## stddev normal distribution\n",
    "    biases_1 = tf.Variable(tf.zeros([num_hidden_neurons_1]))\n",
    "    \n",
    "    ## Hidden layer 2 with ReLUs\n",
    "    weights_2 = tf.Variable(tf.truncated_normal([num_hidden_neurons_1, num_hidden_neurons_2], stddev=math.sqrt(2.0/(num_hidden_neurons_1)))) \n",
    "    biases_2 = tf.Variable(tf.zeros([num_hidden_neurons_2]))\n",
    "    \n",
    "    ## Hidden layer 3 with ReLUs\n",
    "    weights_3 = tf.Variable(tf.truncated_normal([num_hidden_neurons_2, num_hidden_neurons_3], stddev=math.sqrt(2.0/(num_hidden_neurons_2)))) \n",
    "    biases_3 = tf.Variable(tf.zeros([num_hidden_neurons_3]))\n",
    "    \n",
    "    ## Hidden layer 4 with ReLUs\n",
    "    weights_4 = tf.Variable(tf.truncated_normal([num_hidden_neurons_3, num_hidden_neurons_4], stddev=math.sqrt(2.0/(num_hidden_neurons_3)))) \n",
    "    biases_4 = tf.Variable(tf.zeros([num_hidden_neurons_4]))\n",
    "    \n",
    "    ## Hidden layer 5 with ReLUs\n",
    "    weights_5 = tf.Variable(tf.truncated_normal([num_hidden_neurons_4, num_hidden_neurons_5], stddev=math.sqrt(2.0/(num_hidden_neurons_4)))) \n",
    "    biases_5 = tf.Variable(tf.zeros([num_hidden_neurons_5]))\n",
    "    \n",
    "        \n",
    "    # output layer\n",
    "    weights_6 = tf.Variable(tf.truncated_normal([num_hidden_neurons_5, num_labels],stddev=math.sqrt(2.0/(num_hidden_neurons_5))))\n",
    "    biases_6 = tf.Variable(tf.zeros([num_labels]))\n",
    "                            \n",
    "    # Training computation.\n",
    "    # Hidden layer 1 with ReLUs\n",
    "    logits_1 = tf.matmul(tf_train_dataset, weights_1) + biases_1 \n",
    "    relu_layer_1 = tf.nn.relu(logits_1)\n",
    "    # dropout \n",
    "    keep_prob = tf.placeholder(tf.float32) \n",
    "    relu_layer_dropout_1 = tf.nn.dropout(relu_layer_1, keep_prob)\n",
    "    \n",
    "    ## Hidden layer 2 with ReLUs\n",
    "    logits_2 = tf.matmul(relu_layer_dropout_1, weights_2) + biases_2\n",
    "    relu_layer_2 = tf.nn.relu(logits_2)\n",
    "    relu_layer_dropout_2 = tf.nn.dropout(relu_layer_2, keep_prob)\n",
    "    \n",
    "    ## Hidden layer 3 with ReLUs\n",
    "    logits_3 = tf.matmul(relu_layer_dropout_2, weights_3) + biases_3\n",
    "    relu_layer_3 = tf.nn.relu(logits_3)\n",
    "    relu_layer_dropout_3 = tf.nn.dropout(relu_layer_3, keep_prob)\n",
    "    \n",
    "    ## Hidden layer 4 with ReLUs\n",
    "    logits_4 = tf.matmul(relu_layer_dropout_3, weights_4) + biases_4\n",
    "    relu_layer_4 = tf.nn.relu(logits_4)\n",
    "    relu_layer_dropout_4 = tf.nn.dropout(relu_layer_4, keep_prob)\n",
    "                            \n",
    "    ## Hidden layer 5 with ReLUs\n",
    "    logits_5 = tf.matmul(relu_layer_dropout_4, weights_5) + biases_5\n",
    "    relu_layer_5 = tf.nn.relu(logits_5)\n",
    "    relu_layer_dropout_5 = tf.nn.dropout(relu_layer_5, keep_prob)\n",
    "    \n",
    "    # output layer\n",
    "    logits = tf.matmul(relu_layer_dropout_5, weights_6) + biases_6\n",
    "    \n",
    "    # loss function + L2 regularization\n",
    "    loss = tf.reduce_mean(tf.nn.softmax_cross_entropy_with_logits(logits=logits, labels=tf_train_labels)) \n",
    "    \n",
    "    # L2 regularization\n",
    "    regularization = tf.nn.l2_loss(weights_1) + tf.nn.l2_loss(weights_2) + tf.nn.l2_loss(weights_3) + tf.nn.l2_loss(weights_4) + tf.nn.l2_loss(weights_5) + tf.nn.l2_loss(weights_6)\n",
    "    loss = tf.reduce_mean(loss + beta*regularization)\n",
    "    \n",
    "    # Optimizer.\n",
    "    ## Use Learning Rate Decaying.\n",
    "    global_step = tf.Variable(0) ## count the number of steps taken\n",
    "    starter_learning_rate = 0.5\n",
    "    number_decay_steps = 100000\n",
    "    base_of = 0.96\n",
    "\n",
    "    learning_rate = tf.train.exponential_decay(starter_learning_rate, global_step, number_decay_steps, base_of, staircase=True)\n",
    "    optimizer = tf.train.GradientDescentOptimizer(learning_rate).minimize(loss, global_step = global_step)\n",
    "\n",
    "    # Predictions for the training\n",
    "    train_prediction = tf.nn.softmax(logits)\n",
    "    \n",
    "    # Predictions for validation \n",
    "    logits_valid_1 = tf.matmul(tf_valid_dataset, weights_1) + biases_1\n",
    "    relu_layer_valid_1 = tf.nn.relu(logits_valid_1)\n",
    "    # l2\n",
    "    logits_valid_2 = tf.matmul(relu_layer_valid_1, weights_2) + biases_2\n",
    "    relu_layer_valid_2 = tf.nn.relu(logits_valid_2)\n",
    "    # l3\n",
    "    logits_valid_3 = tf.matmul(relu_layer_valid_2, weights_3) + biases_3\n",
    "    relu_layer_valid_3 = tf.nn.relu(logits_valid_3)\n",
    "    # l4\n",
    "    logits_valid_4 = tf.matmul(relu_layer_valid_3, weights_4) + biases_4\n",
    "    relu_layer_valid_4 = tf.nn.relu(logits_valid_4)\n",
    "    # l5\n",
    "    logits_valid_5 = tf.matmul(relu_layer_valid_4, weights_5) + biases_5\n",
    "    relu_layer_valid_5 = tf.nn.relu(logits_valid_5)\n",
    "    \n",
    "    logits_valid = tf.matmul(relu_layer_valid_5, weights_6) + biases_6\n",
    "    \n",
    "    valid_prediction = tf.nn.softmax(logits_valid)\n",
    "    \n",
    "    # Predictions for test data\n",
    "    logits_test_1 = tf.matmul(tf_test_dataset, weights_1) + biases_1\n",
    "    relu_layer_test_1 = tf.nn.relu(logits_test_1)\n",
    "    # l2\n",
    "    logits_test_2 = tf.matmul(relu_layer_test_1, weights_2) + biases_2\n",
    "    relu_layer_test_2 = tf.nn.relu(logits_test_2)\n",
    "    # l3\n",
    "    logits_test_3 = tf.matmul(relu_layer_test_2, weights_3) + biases_3\n",
    "    relu_layer_test_3 = tf.nn.relu(logits_test_3)\n",
    "    # l4\n",
    "    logits_test_4 = tf.matmul(relu_layer_test_3, weights_4) + biases_4\n",
    "    relu_layer_test_4 = tf.nn.relu(logits_test_4)\n",
    "    # l5\n",
    "    logits_test_5 = tf.matmul(relu_layer_test_4, weights_5) + biases_5\n",
    "    relu_layer_test_5 = tf.nn.relu(logits_test_5)\n",
    "                                     \n",
    "    logits_test = tf.matmul(relu_layer_test_5, weights_6) + biases_6\n",
    "    \n",
    "    test_prediction = tf.nn.softmax(logits_test)"
   ]
  },
  {
   "cell_type": "code",
   "execution_count": 16,
   "metadata": {},
   "outputs": [
    {
     "name": "stdout",
     "output_type": "stream",
     "text": [
      "Initialized\n",
      "Minibatch loss at step 0: 5.195339\n",
      "Minibatch accuracy: 8.6%\n",
      "Validation accuracy: 6.2%\n",
      "Minibatch loss at step 500: 1.758227\n",
      "Minibatch accuracy: 83.6%\n",
      "Validation accuracy: 82.4%\n",
      "Minibatch loss at step 1000: 1.471026\n",
      "Minibatch accuracy: 79.7%\n",
      "Validation accuracy: 83.2%\n",
      "Minibatch loss at step 1500: 1.102370\n",
      "Minibatch accuracy: 83.6%\n",
      "Validation accuracy: 83.9%\n",
      "Minibatch loss at step 2000: 0.884799\n",
      "Minibatch accuracy: 90.6%\n",
      "Validation accuracy: 85.0%\n",
      "Minibatch loss at step 2500: 0.927663\n",
      "Minibatch accuracy: 82.8%\n",
      "Validation accuracy: 84.8%\n",
      "Minibatch loss at step 3000: 0.810785\n",
      "Minibatch accuracy: 88.3%\n",
      "Validation accuracy: 84.9%\n",
      "Minibatch loss at step 3500: 0.865958\n",
      "Minibatch accuracy: 82.8%\n",
      "Validation accuracy: 85.4%\n",
      "Minibatch loss at step 4000: 0.846156\n",
      "Minibatch accuracy: 85.9%\n",
      "Validation accuracy: 85.4%\n",
      "Minibatch loss at step 4500: 0.802415\n",
      "Minibatch accuracy: 82.0%\n",
      "Validation accuracy: 85.5%\n",
      "Minibatch loss at step 5000: 0.800845\n",
      "Minibatch accuracy: 82.8%\n",
      "Validation accuracy: 85.8%\n",
      "Minibatch loss at step 5500: 0.979778\n",
      "Minibatch accuracy: 79.7%\n",
      "Validation accuracy: 85.5%\n",
      "Minibatch loss at step 6000: 0.948087\n",
      "Minibatch accuracy: 78.9%\n",
      "Validation accuracy: 85.4%\n",
      "Minibatch loss at step 6500: 0.631986\n",
      "Minibatch accuracy: 89.8%\n",
      "Validation accuracy: 85.9%\n",
      "Minibatch loss at step 7000: 0.885637\n",
      "Minibatch accuracy: 82.8%\n",
      "Validation accuracy: 86.2%\n",
      "Minibatch loss at step 7500: 0.939146\n",
      "Minibatch accuracy: 82.0%\n",
      "Validation accuracy: 86.0%\n",
      "Minibatch loss at step 8000: 0.958602\n",
      "Minibatch accuracy: 81.2%\n",
      "Validation accuracy: 86.2%\n",
      "Minibatch loss at step 8500: 0.752766\n",
      "Minibatch accuracy: 85.9%\n",
      "Validation accuracy: 86.1%\n",
      "Minibatch loss at step 9000: 0.830103\n",
      "Minibatch accuracy: 85.2%\n",
      "Validation accuracy: 86.3%\n",
      "Minibatch loss at step 9500: 0.915632\n",
      "Minibatch accuracy: 84.4%\n",
      "Validation accuracy: 85.1%\n",
      "Minibatch loss at step 10000: 0.884629\n",
      "Minibatch accuracy: 82.0%\n",
      "Validation accuracy: 86.3%\n",
      "Test accuracy: 93.0%\n"
     ]
    }
   ],
   "source": [
    "num_steps = 10001\n",
    "with tf.Session(graph=graph) as session:\n",
    "  tf.global_variables_initializer().run()\n",
    "  print(\"Initialized\")\n",
    "  for step in range(num_steps):\n",
    "    offset = (step * batch_size) % (train_labels.shape[0] - batch_size)\n",
    "    batch_data = train_dataset[offset:(offset + batch_size), :]\n",
    "    batch_labels = train_labels[offset:(offset + batch_size), :]\n",
    "    \n",
    "    # Prepare a dictionary telling the session where to feed the minibatch.\n",
    "    # The key of the dictionary is the placeholder node of the graph to be fed,\n",
    "    # and the value is the numpy array to feed to it.\n",
    "    \n",
    "    feed_dict = {tf_train_dataset : batch_data, tf_train_labels : batch_labels, keep_prob : 0.5}\n",
    "    _, l, predictions = session.run(\n",
    "      [optimizer, loss, train_prediction], feed_dict=feed_dict)\n",
    "    if (step % 500 == 0):\n",
    "      print(\"Minibatch loss at step %d: %f\" % (step, l))\n",
    "      print(\"Minibatch accuracy: %.1f%%\" % accuracy(predictions, batch_labels))\n",
    "      print(\"Validation accuracy: %.1f%%\" % accuracy(valid_prediction.eval(), valid_labels))\n",
    "  print(\"Test accuracy: %.1f%%\" % accuracy(test_prediction.eval(), test_labels))"
   ]
  },
  {
   "cell_type": "code",
   "execution_count": null,
   "metadata": {
    "collapsed": true
   },
   "outputs": [],
   "source": []
  }
 ],
 "metadata": {
  "colab": {
   "default_view": {},
   "name": "3_regularization.ipynb",
   "provenance": [],
   "version": "0.3.2",
   "views": {}
  },
  "kernelspec": {
   "display_name": "Python 3",
   "language": "python",
   "name": "python3"
  },
  "language_info": {
   "codemirror_mode": {
    "name": "ipython",
    "version": 3
   },
   "file_extension": ".py",
   "mimetype": "text/x-python",
   "name": "python",
   "nbconvert_exporter": "python",
   "pygments_lexer": "ipython3",
   "version": "3.5.3"
  }
 },
 "nbformat": 4,
 "nbformat_minor": 1
}
